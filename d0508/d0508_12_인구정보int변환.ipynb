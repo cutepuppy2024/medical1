{
 "cells": [
  {
   "cell_type": "code",
   "execution_count": 22,
   "metadata": {},
   "outputs": [
    {
     "name": "stderr",
     "output_type": "stream",
     "text": [
      "c:\\Python312\\Lib\\site-packages\\openpyxl\\styles\\stylesheet.py:226: UserWarning: Workbook contains no default style, apply openpyxl's default\n",
      "  warn(\"Workbook contains no default style, apply openpyxl's default\")\n"
     ]
    },
    {
     "data": {
      "text/plain": [
       "1072653"
      ]
     },
     "execution_count": 22,
     "metadata": {},
     "output_type": "execute_result"
    }
   ],
   "source": [
    "import pandas as pd\n",
    "df = pd.read_excel('20240103_인구.xlsx',skiprows=3,usecols='B,E:Y',index_col='행정기관')\n",
    "\n",
    "# df.iloc[0] = df.iloc[0].str.replace(\",\",\"\").astype(int)   # df만으로는 불가능\n",
    "# df.iloc[0:] = df.iloc[0:].str.replace(\",\",\"\").astype(int) # error\n",
    "\n",
    "## row의 개수를 알고 싶은 경우\n",
    "# df.shape[0]\n",
    "# df.info()\n",
    "\n",
    "for i in range(df.shape[0]):\n",
    "    df.iloc[i] = df.iloc[i].str.replace(\",\",\"\").astype(int) \n",
    "\n",
    "# column의 합계 \n",
    "df['0~4세']\n",
    "df['0~4세'].sum()\n",
    "\n",
    "# row의 합계\n",
    "df.iloc[0,1]"
   ]
  }
 ],
 "metadata": {
  "kernelspec": {
   "display_name": "Python 3",
   "language": "python",
   "name": "python3"
  },
  "language_info": {
   "codemirror_mode": {
    "name": "ipython",
    "version": 3
   },
   "file_extension": ".py",
   "mimetype": "text/x-python",
   "name": "python",
   "nbconvert_exporter": "python",
   "pygments_lexer": "ipython3",
   "version": "3.12.0"
  }
 },
 "nbformat": 4,
 "nbformat_minor": 2
}
