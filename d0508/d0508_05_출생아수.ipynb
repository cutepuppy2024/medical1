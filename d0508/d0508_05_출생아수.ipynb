{
 "cells": [
  {
   "cell_type": "code",
   "execution_count": 12,
   "metadata": {},
   "outputs": [
    {
     "name": "stderr",
     "output_type": "stream",
     "text": [
      "c:\\Python312\\Lib\\site-packages\\openpyxl\\styles\\stylesheet.py:226: UserWarning: Workbook contains no default style, apply openpyxl's default\n",
      "  warn(\"Workbook contains no default style, apply openpyxl's default\")\n"
     ]
    },
    {
     "data": {
      "text/plain": [
       "행정기관\n",
       "전국           1,307\n",
       "서울특별시          276\n",
       "부산광역시           72\n",
       "대구광역시           25\n",
       "인천광역시           82\n",
       "광주광역시           18\n",
       "대전광역시           28\n",
       "울산광역시            4\n",
       "세종특별자치시          6\n",
       "경기도            379\n",
       "강원도             67\n",
       "충청북도            50\n",
       "충청남도            58\n",
       "전라북도            62\n",
       "전라남도            60\n",
       "경상북도            56\n",
       "경상남도            53\n",
       "제주특별자치도         11\n",
       "Name: 100세 이상, dtype: object"
      ]
     },
     "execution_count": 12,
     "metadata": {},
     "output_type": "execute_result"
    }
   ],
   "source": [
    "import pandas as pd\n",
    "df = pd.read_excel('20240103_인구.xlsx',skiprows=3,index_col='행정기관',usecols='B,E:Y')\n",
    "df.head(2)\n",
    "df[0:3]\n",
    "df.tail()\n",
    "\n",
    "df['0~4세']\n",
    "df[df.columns[-1]]"
   ]
  },
  {
   "cell_type": "code",
   "execution_count": 14,
   "metadata": {},
   "outputs": [
    {
     "name": "stderr",
     "output_type": "stream",
     "text": [
      "c:\\Python312\\Lib\\site-packages\\openpyxl\\styles\\stylesheet.py:226: UserWarning: Workbook contains no default style, apply openpyxl's default\n",
      "  warn(\"Workbook contains no default style, apply openpyxl's default\")\n"
     ]
    },
    {
     "data": {
      "text/html": [
       "<div>\n",
       "<style scoped>\n",
       "    .dataframe tbody tr th:only-of-type {\n",
       "        vertical-align: middle;\n",
       "    }\n",
       "\n",
       "    .dataframe tbody tr th {\n",
       "        vertical-align: top;\n",
       "    }\n",
       "\n",
       "    .dataframe thead th {\n",
       "        text-align: right;\n",
       "    }\n",
       "</style>\n",
       "<table border=\"1\" class=\"dataframe\">\n",
       "  <thead>\n",
       "    <tr style=\"text-align: right;\">\n",
       "      <th></th>\n",
       "      <th>Unnamed: 0</th>\n",
       "      <th>Unnamed: 1</th>\n",
       "      <th>2012</th>\n",
       "      <th>2013</th>\n",
       "      <th>2014</th>\n",
       "      <th>2015</th>\n",
       "      <th>2016</th>\n",
       "      <th>2017</th>\n",
       "      <th>2018</th>\n",
       "      <th>2019</th>\n",
       "      <th>2020</th>\n",
       "      <th>2021</th>\n",
       "      <th>2022</th>\n",
       "    </tr>\n",
       "  </thead>\n",
       "  <tbody>\n",
       "    <tr>\n",
       "      <th>0</th>\n",
       "      <td>출생</td>\n",
       "      <td>출생아수(명)</td>\n",
       "      <td>484,550</td>\n",
       "      <td>436,455</td>\n",
       "      <td>435,435</td>\n",
       "      <td>438,420</td>\n",
       "      <td>406,243</td>\n",
       "      <td>357,771</td>\n",
       "      <td>326,822</td>\n",
       "      <td>302,676</td>\n",
       "      <td>272,337</td>\n",
       "      <td>260,562</td>\n",
       "      <td>249,186</td>\n",
       "    </tr>\n",
       "    <tr>\n",
       "      <th>1</th>\n",
       "      <td>NaN</td>\n",
       "      <td>조출생률(인구1천명당 명)</td>\n",
       "      <td>9.6</td>\n",
       "      <td>8.6</td>\n",
       "      <td>8.6</td>\n",
       "      <td>8.6</td>\n",
       "      <td>7.9</td>\n",
       "      <td>7.0</td>\n",
       "      <td>6.4</td>\n",
       "      <td>5.9</td>\n",
       "      <td>5.3</td>\n",
       "      <td>5.1</td>\n",
       "      <td>4.9</td>\n",
       "    </tr>\n",
       "    <tr>\n",
       "      <th>2</th>\n",
       "      <td>NaN</td>\n",
       "      <td>합계출산율(가임여성1명당 명)</td>\n",
       "      <td>1.297</td>\n",
       "      <td>1.187</td>\n",
       "      <td>1.205</td>\n",
       "      <td>1.239</td>\n",
       "      <td>1.172</td>\n",
       "      <td>1.052</td>\n",
       "      <td>0.977</td>\n",
       "      <td>0.918</td>\n",
       "      <td>0.837</td>\n",
       "      <td>0.808</td>\n",
       "      <td>0.778</td>\n",
       "    </tr>\n",
       "    <tr>\n",
       "      <th>3</th>\n",
       "      <td>사망</td>\n",
       "      <td>사망자수(명)</td>\n",
       "      <td>267,221</td>\n",
       "      <td>266,257</td>\n",
       "      <td>267,692</td>\n",
       "      <td>275,895</td>\n",
       "      <td>280,827</td>\n",
       "      <td>285,534</td>\n",
       "      <td>298,820</td>\n",
       "      <td>295,110</td>\n",
       "      <td>304,948</td>\n",
       "      <td>317,680</td>\n",
       "      <td>372,939</td>\n",
       "    </tr>\n",
       "  </tbody>\n",
       "</table>\n",
       "</div>"
      ],
      "text/plain": [
       "  Unnamed: 0        Unnamed: 1     2012     2013     2014     2015     2016  \\\n",
       "0         출생           출생아수(명)  484,550  436,455  435,435  438,420  406,243   \n",
       "1        NaN    조출생률(인구1천명당 명)      9.6      8.6      8.6      8.6      7.9   \n",
       "2        NaN  합계출산율(가임여성1명당 명)    1.297    1.187    1.205    1.239    1.172   \n",
       "3         사망           사망자수(명)  267,221  266,257  267,692  275,895  280,827   \n",
       "\n",
       "      2017     2018     2019     2020     2021     2022  \n",
       "0  357,771  326,822  302,676  272,337  260,562  249,186  \n",
       "1      7.0      6.4      5.9      5.3      5.1      4.9  \n",
       "2    1.052    0.977    0.918    0.837    0.808    0.778  \n",
       "3  285,534  298,820  295,110  304,948  317,680  372,939  "
      ]
     },
     "execution_count": 14,
     "metadata": {},
     "output_type": "execute_result"
    }
   ],
   "source": [
    "df= pd.read_excel('20122022_출생.xlsx',skiprows=2)\n",
    "df.head(4)"
   ]
  },
  {
   "cell_type": "code",
   "execution_count": 23,
   "metadata": {},
   "outputs": [],
   "source": [
    "# index_col = 0  첫번째 컬럼을 index로 지정\n",
    "# skiprows : 상단부분 제외\n",
    "# nrows : rows 가져오기\n",
    "# usecols : 특정컬럼부분 가져오기"
   ]
  },
  {
   "cell_type": "code",
   "execution_count": 26,
   "metadata": {},
   "outputs": [
    {
     "name": "stderr",
     "output_type": "stream",
     "text": [
      "c:\\Python312\\Lib\\site-packages\\openpyxl\\styles\\stylesheet.py:226: UserWarning: Workbook contains no default style, apply openpyxl's default\n",
      "  warn(\"Workbook contains no default style, apply openpyxl's default\")\n"
     ]
    },
    {
     "data": {
      "text/plain": [
       "array(['출생아수(명)', '조출생률(인구1천명당\\xa0명)', '합계출산율(가임여성1명당\\xa0명)'],\n",
       "      dtype=object)"
      ]
     },
     "execution_count": 26,
     "metadata": {},
     "output_type": "execute_result"
    }
   ],
   "source": [
    "df = pd.read_excel('20122022_출생.xlsx',skiprows=2,nrows=3,usecols='B:M',index_col=0)\n",
    "df.index.name = '제목'\n",
    "df.index         # Index(['출생아수(명)', '조출생률(인구1천명당 명)', '합계출산율(가임여성1명당 명)']\n",
    "df.index.values  # array(['출생아수(명)', '조출생률(인구1천명당\\xa0명)', '합계출산율(가임여성1명당\\xa0명)'] <- 띄어쓰기표시가 들어가 있음"
   ]
  },
  {
   "cell_type": "code",
   "execution_count": 28,
   "metadata": {},
   "outputs": [
    {
     "data": {
      "text/plain": [
       "2012    484,550\n",
       "2013    436,455\n",
       "2014    435,435\n",
       "2015    438,420\n",
       "2016    406,243\n",
       "2017    357,771\n",
       "2018    326,822\n",
       "2019    302,676\n",
       "2020    272,337\n",
       "2021    260,562\n",
       "2022    249,186\n",
       "Name: 출생아수(명), dtype: object"
      ]
     },
     "execution_count": 28,
     "metadata": {},
     "output_type": "execute_result"
    }
   ],
   "source": [
    "df.loc['출생아수(명)']"
   ]
  },
  {
   "cell_type": "code",
   "execution_count": 29,
   "metadata": {},
   "outputs": [
    {
     "data": {
      "text/plain": [
       "Index(['2012', '2013', '2014', '2015', '2016', '2017', '2018', '2019', '2020',\n",
       "       '2021', '2022'],\n",
       "      dtype='object')"
      ]
     },
     "execution_count": 29,
     "metadata": {},
     "output_type": "execute_result"
    }
   ],
   "source": [
    "df.columns"
   ]
  },
  {
   "cell_type": "code",
   "execution_count": 30,
   "metadata": {},
   "outputs": [
    {
     "data": {
      "text/plain": [
       "제목\n",
       "출생아수(명)             484,550\n",
       "조출생률(인구1천명당 명)          9.6\n",
       "합계출산율(가임여성1명당 명)      1.297\n",
       "Name: 2012, dtype: object"
      ]
     },
     "execution_count": 30,
     "metadata": {},
     "output_type": "execute_result"
    }
   ],
   "source": [
    "# col의 모든 값들 출력\n",
    "df['2012']"
   ]
  },
  {
   "cell_type": "code",
   "execution_count": 33,
   "metadata": {},
   "outputs": [
    {
     "data": {
      "text/plain": [
       "2012    484,550\n",
       "2013    436,455\n",
       "2014    435,435\n",
       "2015    438,420\n",
       "2016    406,243\n",
       "2017    357,771\n",
       "2018    326,822\n",
       "2019    302,676\n",
       "2020    272,337\n",
       "2021    260,562\n",
       "2022    249,186\n",
       "Name: 출생아수(명), dtype: object"
      ]
     },
     "execution_count": 33,
     "metadata": {},
     "output_type": "execute_result"
    }
   ],
   "source": [
    "# row의 모든 값들 출력\n"
   ]
  },
  {
   "cell_type": "code",
   "execution_count": 34,
   "metadata": {},
   "outputs": [
    {
     "data": {
      "text/plain": [
       "2012    1.297\n",
       "2013    1.187\n",
       "2014    1.205\n",
       "2015    1.239\n",
       "2016    1.172\n",
       "2017    1.052\n",
       "2018    0.977\n",
       "2019    0.918\n",
       "2020    0.837\n",
       "2021    0.808\n",
       "2022    0.778\n",
       "Name: 합계출산율(가임여성1명당 명), dtype: object"
      ]
     },
     "execution_count": 34,
     "metadata": {},
     "output_type": "execute_result"
    }
   ],
   "source": [
    "# 합계출산율(가임여성1명당 명) -> error ; values 값을 써 주어야 함\n",
    "df.loc['합계출산율(가임여성1명당\\xa0명)']"
   ]
  },
  {
   "cell_type": "code",
   "execution_count": 35,
   "metadata": {},
   "outputs": [],
   "source": [
    "df.rename(index={'합계출산율(가임여성1명당\\xa0명)':'합계출산율(가임여성1명당 명)'},inplace=True)"
   ]
  },
  {
   "cell_type": "code",
   "execution_count": 36,
   "metadata": {},
   "outputs": [
    {
     "data": {
      "text/plain": [
       "2012    1.297\n",
       "2013    1.187\n",
       "2014    1.205\n",
       "2015    1.239\n",
       "2016    1.172\n",
       "2017    1.052\n",
       "2018    0.977\n",
       "2019    0.918\n",
       "2020    0.837\n",
       "2021    0.808\n",
       "2022    0.778\n",
       "Name: 합계출산율(가임여성1명당 명), dtype: object"
      ]
     },
     "execution_count": 36,
     "metadata": {},
     "output_type": "execute_result"
    }
   ],
   "source": [
    "df.loc['합계출산율(가임여성1명당 명)']"
   ]
  },
  {
   "cell_type": "code",
   "execution_count": 39,
   "metadata": {},
   "outputs": [],
   "source": [
    "df.rename(index={'조출생률(인구1천명당\\xa0명)':'조출생률(인구1천명당 명)'},inplace=True)"
   ]
  },
  {
   "cell_type": "code",
   "execution_count": 40,
   "metadata": {},
   "outputs": [
    {
     "data": {
      "text/plain": [
       "2012    9.6\n",
       "2013    8.6\n",
       "2014    8.6\n",
       "2015    8.6\n",
       "2016    7.9\n",
       "2017    7.0\n",
       "2018    6.4\n",
       "2019    5.9\n",
       "2020    5.3\n",
       "2021    5.1\n",
       "2022    4.9\n",
       "Name: 조출생률(인구1천명당 명), dtype: object"
      ]
     },
     "execution_count": 40,
     "metadata": {},
     "output_type": "execute_result"
    }
   ],
   "source": [
    "df.loc['조출생률(인구1천명당 명)']"
   ]
  },
  {
   "cell_type": "code",
   "execution_count": 43,
   "metadata": {},
   "outputs": [
    {
     "data": {
      "text/html": [
       "<div>\n",
       "<style scoped>\n",
       "    .dataframe tbody tr th:only-of-type {\n",
       "        vertical-align: middle;\n",
       "    }\n",
       "\n",
       "    .dataframe tbody tr th {\n",
       "        vertical-align: top;\n",
       "    }\n",
       "\n",
       "    .dataframe thead th {\n",
       "        text-align: right;\n",
       "    }\n",
       "</style>\n",
       "<table border=\"1\" class=\"dataframe\">\n",
       "  <thead>\n",
       "    <tr style=\"text-align: right;\">\n",
       "      <th>제목</th>\n",
       "      <th>출생아수(명)</th>\n",
       "      <th>조출생률(인구1천명당 명)</th>\n",
       "      <th>합계출산율(가임여성1명당 명)</th>\n",
       "    </tr>\n",
       "  </thead>\n",
       "  <tbody>\n",
       "    <tr>\n",
       "      <th>2012</th>\n",
       "      <td>484,550</td>\n",
       "      <td>9.6</td>\n",
       "      <td>1.297</td>\n",
       "    </tr>\n",
       "    <tr>\n",
       "      <th>2013</th>\n",
       "      <td>436,455</td>\n",
       "      <td>8.6</td>\n",
       "      <td>1.187</td>\n",
       "    </tr>\n",
       "    <tr>\n",
       "      <th>2014</th>\n",
       "      <td>435,435</td>\n",
       "      <td>8.6</td>\n",
       "      <td>1.205</td>\n",
       "    </tr>\n",
       "    <tr>\n",
       "      <th>2015</th>\n",
       "      <td>438,420</td>\n",
       "      <td>8.6</td>\n",
       "      <td>1.239</td>\n",
       "    </tr>\n",
       "    <tr>\n",
       "      <th>2016</th>\n",
       "      <td>406,243</td>\n",
       "      <td>7.9</td>\n",
       "      <td>1.172</td>\n",
       "    </tr>\n",
       "    <tr>\n",
       "      <th>2017</th>\n",
       "      <td>357,771</td>\n",
       "      <td>7.0</td>\n",
       "      <td>1.052</td>\n",
       "    </tr>\n",
       "    <tr>\n",
       "      <th>2018</th>\n",
       "      <td>326,822</td>\n",
       "      <td>6.4</td>\n",
       "      <td>0.977</td>\n",
       "    </tr>\n",
       "    <tr>\n",
       "      <th>2019</th>\n",
       "      <td>302,676</td>\n",
       "      <td>5.9</td>\n",
       "      <td>0.918</td>\n",
       "    </tr>\n",
       "    <tr>\n",
       "      <th>2020</th>\n",
       "      <td>272,337</td>\n",
       "      <td>5.3</td>\n",
       "      <td>0.837</td>\n",
       "    </tr>\n",
       "    <tr>\n",
       "      <th>2021</th>\n",
       "      <td>260,562</td>\n",
       "      <td>5.1</td>\n",
       "      <td>0.808</td>\n",
       "    </tr>\n",
       "    <tr>\n",
       "      <th>2022</th>\n",
       "      <td>249,186</td>\n",
       "      <td>4.9</td>\n",
       "      <td>0.778</td>\n",
       "    </tr>\n",
       "  </tbody>\n",
       "</table>\n",
       "</div>"
      ],
      "text/plain": [
       "제목    출생아수(명) 조출생률(인구1천명당 명) 합계출산율(가임여성1명당 명)\n",
       "2012  484,550            9.6            1.297\n",
       "2013  436,455            8.6            1.187\n",
       "2014  435,435            8.6            1.205\n",
       "2015  438,420            8.6            1.239\n",
       "2016  406,243            7.9            1.172\n",
       "2017  357,771            7.0            1.052\n",
       "2018  326,822            6.4            0.977\n",
       "2019  302,676            5.9            0.918\n",
       "2020  272,337            5.3            0.837\n",
       "2021  260,562            5.1            0.808\n",
       "2022  249,186            4.9            0.778"
      ]
     },
     "execution_count": 43,
     "metadata": {},
     "output_type": "execute_result"
    }
   ],
   "source": [
    "# rows, columns 축 변경\n",
    "\n",
    "df = df.T\n",
    "df"
   ]
  }
 ],
 "metadata": {
  "kernelspec": {
   "display_name": "Python 3",
   "language": "python",
   "name": "python3"
  },
  "language_info": {
   "codemirror_mode": {
    "name": "ipython",
    "version": 3
   },
   "file_extension": ".py",
   "mimetype": "text/x-python",
   "name": "python",
   "nbconvert_exporter": "python",
   "pygments_lexer": "ipython3",
   "version": "3.12.0"
  }
 },
 "nbformat": 4,
 "nbformat_minor": 2
}
