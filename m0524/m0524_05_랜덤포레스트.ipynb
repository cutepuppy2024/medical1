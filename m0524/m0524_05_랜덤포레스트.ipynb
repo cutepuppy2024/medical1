{
 "cells": [
  {
   "cell_type": "code",
   "execution_count": 24,
   "metadata": {},
   "outputs": [],
   "source": [
    "from sklearn.linear_model import LinearRegression       # 선형회귀\n",
    "from sklearn.preprocessing import PolynomialFeatures    # 다항특성을 만들어주는 라이브러리\n",
    "from sklearn.tree import DecisionTreeClassifier         # 결정트리\n",
    "from sklearn.preprocessing import StandardScaler        # 표준화 작업\n",
    "from sklearn.model_selection import train_test_split    \n",
    "import pandas as pd\n",
    "import numpy as np\n",
    "import matplotlib.pyplot as plt\n",
    "import matplotlib\n",
    "import glob, os.path, re\n",
    "import random\n",
    "import seaborn as sns\n",
    "\n",
    "matplotlib.rcParams['axes.unicode_minus'] = False \n",
    "matplotlib.rcParams['font.family'] = 'Malgun Gothic'  # : windows 사용자용\n",
    "matplotlib.rcParams['font.size'] = '10' "
   ]
  },
  {
   "cell_type": "code",
   "execution_count": 25,
   "metadata": {},
   "outputs": [
    {
     "data": {
      "text/html": [
       "<div>\n",
       "<style scoped>\n",
       "    .dataframe tbody tr th:only-of-type {\n",
       "        vertical-align: middle;\n",
       "    }\n",
       "\n",
       "    .dataframe tbody tr th {\n",
       "        vertical-align: top;\n",
       "    }\n",
       "\n",
       "    .dataframe thead th {\n",
       "        text-align: right;\n",
       "    }\n",
       "</style>\n",
       "<table border=\"1\" class=\"dataframe\">\n",
       "  <thead>\n",
       "    <tr style=\"text-align: right;\">\n",
       "      <th></th>\n",
       "      <th>alcohol</th>\n",
       "      <th>sugar</th>\n",
       "      <th>pH</th>\n",
       "      <th>class</th>\n",
       "    </tr>\n",
       "  </thead>\n",
       "  <tbody>\n",
       "    <tr>\n",
       "      <th>0</th>\n",
       "      <td>9.4</td>\n",
       "      <td>1.9</td>\n",
       "      <td>3.51</td>\n",
       "      <td>0.0</td>\n",
       "    </tr>\n",
       "    <tr>\n",
       "      <th>1</th>\n",
       "      <td>9.8</td>\n",
       "      <td>2.6</td>\n",
       "      <td>3.20</td>\n",
       "      <td>0.0</td>\n",
       "    </tr>\n",
       "  </tbody>\n",
       "</table>\n",
       "</div>"
      ],
      "text/plain": [
       "   alcohol  sugar    pH  class\n",
       "0      9.4    1.9  3.51    0.0\n",
       "1      9.8    2.6  3.20    0.0"
      ]
     },
     "execution_count": 25,
     "metadata": {},
     "output_type": "execute_result"
    }
   ],
   "source": [
    "# 랜덤 포레스트\n",
    "# 결정트리를 여러개 묶은 모델\n",
    "\n",
    "wine = pd.read_csv('https://bit.ly/wine-date')\n",
    "wine.head(2)"
   ]
  },
  {
   "cell_type": "code",
   "execution_count": 26,
   "metadata": {},
   "outputs": [
    {
     "name": "stdout",
     "output_type": "stream",
     "text": [
      "<class 'pandas.core.frame.DataFrame'>\n",
      "RangeIndex: 6497 entries, 0 to 6496\n",
      "Data columns (total 4 columns):\n",
      " #   Column   Non-Null Count  Dtype  \n",
      "---  ------   --------------  -----  \n",
      " 0   alcohol  6497 non-null   float64\n",
      " 1   sugar    6497 non-null   float64\n",
      " 2   pH       6497 non-null   float64\n",
      " 3   class    6497 non-null   float64\n",
      "dtypes: float64(4)\n",
      "memory usage: 203.2 KB\n"
     ]
    }
   ],
   "source": [
    "# 데이터 확인\n",
    "wine.info()"
   ]
  },
  {
   "cell_type": "code",
   "execution_count": 27,
   "metadata": {},
   "outputs": [],
   "source": [
    "# 데이터 전처리 - data, target 분리\n",
    "data = wine.iloc[:,0:3]\n",
    "target = wine.iloc[:,3]"
   ]
  },
  {
   "cell_type": "code",
   "execution_count": 33,
   "metadata": {},
   "outputs": [],
   "source": [
    "# train, test\n",
    "train_input, test_input, train_target, test_target = train_test_split(\n",
    "    data, target, test_size=0.2, random_state=42\n",
    ")"
   ]
  },
  {
   "cell_type": "code",
   "execution_count": 34,
   "metadata": {},
   "outputs": [
    {
     "name": "stdout",
     "output_type": "stream",
     "text": [
      "0.9973541965122431 0.8905151032797809\n"
     ]
    }
   ],
   "source": [
    "# 머신러닝 - cross_validate\n",
    "from sklearn.model_selection import cross_validate\n",
    "from sklearn.ensemble import RandomForestClassifier\n",
    "\n",
    "# n_jobs : 모든 core를 사용\n",
    "rf = RandomForestClassifier(n_jobs=1, random_state=42)\n",
    "# retrun_train_score\n",
    "# cross_validate : 기본 5개 폴드\n",
    "scores = cross_validate(rf,train_input, train_target, return_train_score=True, n_jobs=-1)\n",
    "# rf.fit(train_input, train_target)\n",
    "print(np.mean(scores['train_score']),np.mean(scores['test_score']))"
   ]
  },
  {
   "cell_type": "code",
   "execution_count": 35,
   "metadata": {},
   "outputs": [
    {
     "name": "stdout",
     "output_type": "stream",
     "text": [
      "[0.23167441 0.50039841 0.26792718]\n"
     ]
    }
   ],
   "source": [
    "rf.fit(train_input,train_target)\n",
    "print(rf.feature_importances_) # 어떤 특성이 중요도가 높은지 알려줌"
   ]
  },
  {
   "cell_type": "code",
   "execution_count": 36,
   "metadata": {},
   "outputs": [
    {
     "data": {
      "text/plain": [
       "Index(['alcohol', 'sugar', 'pH', 'class'], dtype='object')"
      ]
     },
     "execution_count": 36,
     "metadata": {},
     "output_type": "execute_result"
    }
   ],
   "source": [
    "wine.columns"
   ]
  },
  {
   "cell_type": "code",
   "execution_count": 38,
   "metadata": {},
   "outputs": [
    {
     "data": {
      "text/plain": [
       "{'fit_time': array([0.32107091, 0.31703639, 0.32107091, 0.31559086, 0.32697129]),\n",
       " 'score_time': array([0.01206303, 0.02010322, 0.02010322, 0.02120018, 0.01025367]),\n",
       " 'test_score': array([0.88461538, 0.88942308, 0.90279115, 0.88931665, 0.88642926]),\n",
       " 'train_score': array([0.9971133 , 0.99663219, 0.9978355 , 0.9973545 , 0.9978355 ])}"
      ]
     },
     "execution_count": 38,
     "metadata": {},
     "output_type": "execute_result"
    }
   ],
   "source": [
    "scores"
   ]
  },
  {
   "cell_type": "code",
   "execution_count": 40,
   "metadata": {},
   "outputs": [],
   "source": [
    "from xgboost import XGBClassifier"
   ]
  },
  {
   "cell_type": "code",
   "execution_count": 42,
   "metadata": {},
   "outputs": [
    {
     "name": "stdout",
     "output_type": "stream",
     "text": [
      "0.9558403027491312\n"
     ]
    }
   ],
   "source": [
    "xgb = XGBClassifier(tree_method='hist',random_state=42)\n",
    "scores = cross_validate(xgb,train_input, train_target,return_train_score =True, n_jobs=-1)\n",
    "print(np.mean(scores['train_score']))"
   ]
  }
 ],
 "metadata": {
  "kernelspec": {
   "display_name": "Python 3",
   "language": "python",
   "name": "python3"
  },
  "language_info": {
   "codemirror_mode": {
    "name": "ipython",
    "version": 3
   },
   "file_extension": ".py",
   "mimetype": "text/x-python",
   "name": "python",
   "nbconvert_exporter": "python",
   "pygments_lexer": "ipython3",
   "version": "3.12.0"
  }
 },
 "nbformat": 4,
 "nbformat_minor": 2
}
