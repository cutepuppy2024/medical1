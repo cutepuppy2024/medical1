{
 "cells": [
  {
   "cell_type": "code",
   "execution_count": null,
   "metadata": {},
   "outputs": [],
   "source": [
    "# 딥러닝 훈련 : 인공신경망(ANN)\n",
    "# 모델결정 model = keras.Sequential()\n",
    "# Flatten 추가  model.add(keras.layers.Flatten(input_shape=(28,28)))\n",
    "# Dense층 추가  model.add(keras.layers.Dense(100,activation='relu'))\n",
    "# 드롭아웃추가  model.add(keras.layers.Dropout(0.3))                    # 30%를 제외시키는 규제적용(과대적합 epoch 때문에)\n",
    "# Dense층 추가  model.add(keras.layers.Dense(10,activation='softmax'))  # train_target.unique()의 숫자에 맞춰야 함\n",
    "\n",
    "# 모델설정 옵티마이저 : 경사하강법의 방법으로 손실률을 찾는 방법 - adam\n",
    "# model.compile(optimizer='adam',loss='sparse_categorical_crossentropy',metrics=['accuracy'])\n",
    "\n",
    "# 콜백모델체크포인트 checkpoint_cb = keras.callbacks.ModelCheckpoint('best_model.keras') # 전전 위치 저장\n",
    "# 조기종료 early_stopping_cb = keras.callbacks.EarlyStopping(patience=2,restore_best_weights=True) # 증가가 2번 이상이 되는 point 찾기\n",
    "# 모델훈련 history = model.fit(train_scaled,train_target,batch_size=32,epochs=20,\n",
    "#                      validation_data=(val_scaled,val_target), callbacks=[checkpoint_cb,early_stopping_cb])\n",
    "# 모델평가 model.evaluate(val_scaled, val_target)\n",
    "\n",
    "# # 저장\n",
    "# model.save_weights('model0529.weights.h5')\n",
    "# model.save('model_all.h5')"
   ]
  },
  {
   "cell_type": "code",
   "execution_count": null,
   "metadata": {},
   "outputs": [],
   "source": [
    "# dense 층 정하기\n",
    "\n",
    "dense = keras.layers.Dense()\n",
    "model = keras.Sequential([dense1,dense2])\n",
    "\n",
    "model = keras.Sequential([\n",
    "    keras.layers.Dense(),\n",
    "    keras.layers.Dense()])\n",
    "\n",
    "model = keras.Sequential()\n",
    "model.add(keras.layers.Flatten(input_shape=(28*28)))\n",
    "model.add(keras.layers.Dense(100,activation='sigmoid', metrics=['accuracy'], input_shape=(100,), name='hidden'))\n",
    "model.add(keras.layers.Dense(10,activation='softmax', metrics=['accuracy'], name='output'))"
   ]
  },
  {
   "cell_type": "code",
   "execution_count": null,
   "metadata": {},
   "outputs": [],
   "source": [
    "# 기본구문\n",
    "model = keras.Sequential()\n",
    "model.compile()\n",
    "model.fit()\n",
    "model.evaluate()"
   ]
  },
  {
   "cell_type": "code",
   "execution_count": null,
   "metadata": {},
   "outputs": [],
   "source": [
    "# 옵티마이저\n",
    "sgd = keras.optimizers.SGD(learning_rate = 0.01)\n",
    "sgd = keras.ooptimizers.SGD(momentum=0.9, nesterov=True)\n",
    "model.compile(optimizer=sgd,loss='sparse_categorical_crossentropy',metrix=['accuracy'])\n",
    "rmpprop = keras.optimizers.RMPprop()\n",
    "model.compile(optimizer=rmpprop,loss='sparse_categorical_crossentropy', metrix=['accuracy'])\n",
    "adgrad = keras.optimizers.Adgrad()\n",
    "model.compile(optimizer=adgrad,loss='binary_crossentropy', metrix=['accuracy'])\n",
    "model.compile(optimizer='adam',loss='binary_crossentropy', metrix=['accuracy'])\n",
    "\n",
    "model.fit(train_input, train_target, batch_size=32, epochs=5)\n",
    "model.evaluate(test_input, test_target)"
   ]
  }
 ],
 "metadata": {
  "language_info": {
   "name": "python"
  }
 },
 "nbformat": 4,
 "nbformat_minor": 2
}
