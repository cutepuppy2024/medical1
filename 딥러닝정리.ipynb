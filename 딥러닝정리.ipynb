{
 "cells": [
  {
   "cell_type": "code",
   "execution_count": null,
   "metadata": {},
   "outputs": [],
   "source": []
  },
  {
   "cell_type": "code",
   "execution_count": null,
   "metadata": {},
   "outputs": [],
   "source": [
    "# 1. 딥러닝 훈련 기본형태 : 인공신경망(ANN) - 1차원 배열로 전환하여 훈련\n",
    "\n",
    "# 모델결정 model = keras.Sequential()\n",
    "# Flatten 추가  model.add(keras.layers.Flatten(input_shape=(28,28)))\n",
    "# Dense층 추가  model.add(keras.layers.Dense(100,activation='relu'))\n",
    "# 드롭아웃추가  model.add(keras.layers.Dropout(0.3))                    # 30%를 제외시키는 규제적용(과대적합 epoch 때문에)\n",
    "# Dense층 추가  model.add(keras.layers.Dense(10,activation='softmax'))  # train_target.unique()의 숫자에 맞춰야 함\n",
    "\n",
    "# 모델설정 옵티마이저 : 경사하강법의 방법으로 손실률을 찾는 방법 - adam\n",
    "# 모델결정 : model = keras.Sequential([dense])\n",
    "# 층을 추가\n",
    "    # Flatten추가 : model.add(keras.layers.Flatten(input_shape=(28,28)))  # 1차원이면 Dense, 2차원이면 Flatten\n",
    "    # Dense 추가 : model.add(keras.layers.Dense(100,activation='relu'))\n",
    "    # Dense 추가 : model.add(keras.layers.Dense(10, activaion='softmax'))\n",
    "# 모델설정 옵티마이저 - adam\n",
    "# model.compile(optimizer='adam', loss='sparse_categorical_crossentropy', metrics=['accuracy']) # sgd:선언하여 변수로 지정해도 됨 또는 'sgd'\n",
    "\n",
    "# 모델훈련 : model.fit(train_scaled, train_target, batch_size=32, epochs=5)\n",
    "# 모델평가 : model.evaluate(val_scaled, val_target)"
   ]
  },
  {
   "cell_type": "code",
   "execution_count": null,
   "metadata": {},
   "outputs": [],
   "source": [
    "# 2.딥러닝 훈련 합성곱 -> 인공신경망(ANN) \n",
    "\n",
    "# 데이터 전처리\n",
    "# train_scaled = train_input.reshape(-1,28,28,1)/255\n",
    "# train_scaled.shape\n",
    "\n",
    "# 모델결정 model = keras.Sequential()\n",
    "\n",
    "# 합성곱 신경망(CNN)\n",
    "# 1차 합성곱 신경망\n",
    "# model.add(keras.layers.Conv2D(32, kernel_size=(3,3), activation='relu', padding='same',input_shape=(28,28,1)) \n",
    "# 최대풀링 : model.add(keras.layers.MaxPooling2D(2))\n",
    "# 2차 합성곱 신경망 생성\n",
    "# model.add(keras.layers.Conv2D(64, kernel_size=(3,3), activation='relu', padding='same')) # 선언\n",
    "# model.add(keras.layers.MaxPooling2D(2))\n",
    "\n",
    "# 인공신경망(ANN) \n",
    "# model.add(keras.layers.Flatten()) # 1차원으로 변경\n",
    "# model.add(keras.layers.Dense(100,activation='relu'))\n",
    "# model.add(keras.layers.Dropout(0.4))\n",
    "# model.add(keras.layers.Dense(10,activation='softmax'))\n",
    "\n",
    "# 모델설정 옵티마이저 : 경사하강법의 방법으로 손실률을 찾는 방법 - adam\n",
    "# model.compile(optimizer='adam',loss='sparse_categorical_crossentropy',metrics=['accuracy'])\n",
    "# 콜백모델체크포인트 checkpoint_cb = keras.callbacks.ModelCheckpoint('best_model.keras') # 전전 위치 저장\n",
    "# 조기종료 early_stopping_cb = keras.callbacks.EarlyStopping(patience=2,restore_best_weights=True) # 증가가 2번 이상이 되는 point 찾기\n",
    "# 모델훈련 history = model.fit(train_scaled,train_target,batch_size=32,epochs=20,\n",
    "#                      validation_data=(val_scaled,val_target), callbacks=[checkpoint_cb,early_stopping_cb])\n",
    "# 모델평가 model.evaluate(val_scaled, val_target)\n",
    "\n",
    "# test세트 검증 - 3차원  행렬로 변경해서 검증\n",
    "# test_scaled = test_input.reshape(-1,28,28,1)/255.0\n",
    "# 모델평가 model.evaluate(test_scaled, test_target)"
   ]
  },
  {
   "cell_type": "code",
   "execution_count": null,
   "metadata": {},
   "outputs": [],
   "source": [
    "# 3. 딥러닝 훈련 : 순환신경망 \n",
    "\n",
    "# 데이터 전처리\n",
    "# train_seq = pad_sequences(train_input,maxlen=100)\n",
    "\n",
    "# 순환신경망\n",
    "# 모델결정 model = keras.Sequential()\n",
    "# model.add(keras.layers.SimpleRNN(8,input_shape=(100,500)))\n",
    "# model.add(keras.layers.Dense(1,activation='sigmoid'))\n",
    "# model.summary()\n",
    "\n",
    "# flatten 필요없음. 원핫인코딩\n",
    "# 옵티마이저 - RMSprop\n",
    "# rmsprop = keras.optimizers.RMSprop(learning_rate=0.0001)\n",
    "# model.compile(optimizer=rmsprop,loss='binary_crossentropy',metrics=['accuracy'])        # 원핫인코딩을 했기 때문에 categorical/binary\n",
    "# 콜백모델체크포인트checkpoint_cb = keras.callbacks.ModelCheckpoint('simpleRnn.keras') \n",
    "# 조기종료 early_stopping_cb = keras.callbacks.EarlyStopping(patience=3,restore_best_weights=True)  \n",
    "# 모델훈련 history = model.fit(train_seq,train_target,batch_size=64,epochs=100,                     # 원핫인코딩으로 바꾼 데이터\n",
    "#                validation_data=(val_seq,val_target), callbacks=[checkpoint_cb,early_stopping_cb])\n",
    "\n",
    "# 모델평가 model.evaluate(val_scaled, val_target)\n",
    "# test_seq = pad_sequences(test_input,maxlen=100)\n",
    "# test_seq = keras.utils.to_categorical(test_seq)\n",
    "# model.evaluate(test_seq,test_target)\n"
   ]
  },
  {
   "cell_type": "code",
   "execution_count": null,
   "metadata": {},
   "outputs": [],
   "source": [
    "# dense 층 정하기\n",
    "\n",
    "# dense = keras.layers.Dense()\n",
    "# model = keras.Sequential([dense1,dense2])\n",
    "\n",
    "# model = keras.Sequential([\n",
    "#     keras.layers.Dense(),\n",
    "#     keras.layers.Dense()])\n",
    "\n",
    "# model = keras.Sequential()\n",
    "# model.add(keras.layers.Flatten(input_shape=(28*28)))\n",
    "# model.add(keras.layers.Dense(100,activation='sigmoid', metrics=['accuracy'], input_shape=(100,), name='hidden'))\n",
    "# model.add(keras.layers.Dense(10,activation='softmax', metrics=['accuracy'], name='output'))"
   ]
  },
  {
   "cell_type": "code",
   "execution_count": null,
   "metadata": {},
   "outputs": [],
   "source": [
    "# 기본구문\n",
    "# model = keras.Sequential()\n",
    "# model.compile()\n",
    "# model.fit()\n",
    "# model.evaluate()"
   ]
  },
  {
   "cell_type": "code",
   "execution_count": null,
   "metadata": {},
   "outputs": [],
   "source": [
    "# 옵티마이저\n",
    "# sgd = keras.optimizers.SGD(learning_rate = 0.01)\n",
    "# sgd = keras.ooptimizers.SGD(momentum=0.9, nesterov=True)\n",
    "# model.compile(optimizer=sgd,loss='sparse_categorical_crossentropy',metrix=['accuracy'])\n",
    "# rmpprop = keras.optimizers.RMPprop()\n",
    "# model.compile(optimizer=rmpprop,loss='sparse_categorical_crossentropy', metrix=['accuracy'])\n",
    "# adgrad = keras.optimizers.Adgrad()\n",
    "# model.compile(optimizer=adgrad,loss='binary_crossentropy', metrix=['accuracy'])\n",
    "# model.compile(optimizer='adam',loss='binary_crossentropy', metrix=['accuracy'])\n",
    "\n",
    "# model.fit(train_input, train_target, batch_size=32, epochs=5)\n",
    "# model.evaluate(test_input, test_target)"
   ]
  },
  {
   "cell_type": "code",
   "execution_count": null,
   "metadata": {},
   "outputs": [],
   "source": [
    "# 저장\n",
    "# model.save_weights('model0529.weights.h5')\n",
    "# model.save('model_all.h5')"
   ]
  }
 ],
 "metadata": {
  "language_info": {
   "name": "python"
  }
 },
 "nbformat": 4,
 "nbformat_minor": 2
}
