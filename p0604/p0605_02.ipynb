{
 "cells": [
  {
   "cell_type": "markdown",
   "metadata": {},
   "source": [
    "### 단층 퍼셉트론\n",
    "    - 퍼셉트론 : 다수의 신호를 입력받아 하나의 신호를 출력\n",
    "    - 입력신호(x1,x2), 출력신호(y1,y2), 가중치(w1,w2)로 구성\n",
    "    - 가중합(weighted sum)이 임계치를 넘어야 출력"
   ]
  },
  {
   "cell_type": "code",
   "execution_count": 2,
   "metadata": {},
   "outputs": [
    {
     "data": {
      "text/plain": [
       "-0.19999999999999996"
      ]
     },
     "execution_count": 2,
     "metadata": {},
     "output_type": "execute_result"
    }
   ],
   "source": [
    "import numpy as np\n",
    "x = np.array([0,1])\n",
    "w = np.array([0.5,0.5])\n",
    "b = -.7\n",
    "\n",
    "np.sum(w*x)+b"
   ]
  },
  {
   "cell_type": "markdown",
   "metadata": {},
   "source": [
    "### 활성화함수 (Activation Function)\n",
    "    - sigmoid\n",
    "    - ReLU\n",
    "    - 비선형성 생성"
   ]
  },
  {
   "cell_type": "code",
   "execution_count": 3,
   "metadata": {},
   "outputs": [],
   "source": [
    "# custom - 계산을 안정적으로 처리\n",
    "\n",
    "def sigmoid(x):  # boolean 타입으로 return\n",
    "    pos_mask = (x>=0)\n",
    "    neg_mask = (x<0)\n",
    "    z = np.zeros_like(x) # 입력값과 같은 크기의 배열을 0으로 생성\n",
    "    z[pos_mask] = np.exp(-x[pos_mask]) # 지수함수\n",
    "    z[neg_mask] = np.exp(x[neg_mask])\n",
    "    top = np.ones_like(x)\n",
    "    top[neg_mask] = z[neg_mask] # 입력 값이 0보다 작은 경우 분자를 exp(x)설정\n",
    "    return top / (1+z)\n",
    "\n",
    "# 1/1+exp(-x) # x가 무한하게 커지면 값이 1에 가까워지는데 연산하는데 메모리가 터지는 경우가 생김"
   ]
  },
  {
   "cell_type": "code",
   "execution_count": 4,
   "metadata": {},
   "outputs": [],
   "source": [
    "# ReLU\n",
    "\n",
    "def relu(x):\n",
    "    return np.maximum(0,x)"
   ]
  },
  {
   "cell_type": "code",
   "execution_count": 5,
   "metadata": {},
   "outputs": [
    {
     "data": {
      "text/plain": [
       "array([0.26894142, 0.73105858, 0.95257413])"
      ]
     },
     "execution_count": 5,
     "metadata": {},
     "output_type": "execute_result"
    }
   ],
   "source": [
    "x = np.array([-1., 1., 3.])\n",
    "sigmoid(x)"
   ]
  },
  {
   "cell_type": "code",
   "execution_count": 6,
   "metadata": {},
   "outputs": [
    {
     "data": {
      "text/plain": [
       "array([0., 1., 3.])"
      ]
     },
     "execution_count": 6,
     "metadata": {},
     "output_type": "execute_result"
    }
   ],
   "source": [
    "relu(x)"
   ]
  },
  {
   "cell_type": "markdown",
   "metadata": {},
   "source": [
    "### 다층 퍼셉트론"
   ]
  },
  {
   "cell_type": "code",
   "execution_count": 7,
   "metadata": {},
   "outputs": [
    {
     "data": {
      "text/plain": [
       "array([0.30625898, 0.67286499])"
      ]
     },
     "execution_count": 7,
     "metadata": {},
     "output_type": "execute_result"
    }
   ],
   "source": [
    "def init_network(): # 모든 신경망의 처음 시작세팅\n",
    "    network = {}\n",
    "    network['W1'] = np.array([[0.1, 0.3, 0.5], [0.2, .4, .6]])\n",
    "    network['b1'] = np.array([0.1, .2, .3])\n",
    "    network['W2'] = np.array([[0.1, 0.4],[0.2,0.5], [0.3,.6]])\n",
    "    network['b2'] = np.array([0.1, .2])\n",
    "    network['W3'] = np.array([[0.1, 0.3], [0.2, .4]])\n",
    "    network['b3'] = np.array([0.1, .2])\n",
    "    \n",
    "    return network\n",
    "\n",
    "def identify_function(x): # 항등\n",
    "    return x\n",
    "    \n",
    "def forward(network, x):\n",
    "    W1, W2, W3 = network['W1'],network['W2'],network['W3']\n",
    "    b1, b2, b3 = network['b1'],network['b2'],network['b3']  \n",
    "    \n",
    "    a1 = np.dot(x,W1) + b1 # 벡터끼리 내적\n",
    "    z1 = sigmoid(a1)\n",
    "    a2 = np.dot(z1,W2) + b2# 벡터끼리 내적\n",
    "    z2 = sigmoid(a2)\n",
    "    a3 = np.dot(z2,W3) + b3 # 벡터끼리 내적\n",
    "    y = identify_function(a3)\n",
    "    return y\n",
    "\n",
    "network = init_network()\n",
    "x = np.array([1., -1.])\n",
    "y = forward(network, x)\n",
    "y"
   ]
  },
  {
   "cell_type": "code",
   "execution_count": 8,
   "metadata": {},
   "outputs": [],
   "source": [
    "# softmax\n",
    "def softmax(x):\n",
    "    c = np.max(x)\n",
    "    exp_x = np.exp(x-c)\n",
    "    sum_exp_x = np.sum(exp_x)\n",
    "    y = exp_x / sum_exp_x\n",
    "    return y # 클래스가 반환된 확률이 정해져서 나온다"
   ]
  }
 ],
 "metadata": {
  "kernelspec": {
   "display_name": "prom",
   "language": "python",
   "name": "python3"
  },
  "language_info": {
   "codemirror_mode": {
    "name": "ipython",
    "version": 3
   },
   "file_extension": ".py",
   "mimetype": "text/x-python",
   "name": "python",
   "nbconvert_exporter": "python",
   "pygments_lexer": "ipython3",
   "version": "3.10.14"
  }
 },
 "nbformat": 4,
 "nbformat_minor": 2
}
