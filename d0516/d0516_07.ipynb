{
 "cells": [
  {
   "cell_type": "code",
   "execution_count": 1,
   "metadata": {},
   "outputs": [],
   "source": [
    "import matplotlib.pyplot as plt\n",
    "import matplotlib\n",
    "import numpy as np\n",
    "import pandas as pd\n",
    "\n",
    "matplotlib.rcParams['axes.unicode_minus'] = False \n",
    "matplotlib.rcParams['font.family'] = 'Malgun Gothic'  # : windows 사용자용\n",
    "matplotlib.rcParams['font.size'] = '10' "
   ]
  },
  {
   "cell_type": "code",
   "execution_count": null,
   "metadata": {},
   "outputs": [],
   "source": [
    "# 1월 데이터\n",
    "df = pd.read_excel('../z20_data/20230104_연령별인구현황.xlsx',skiprows=3, usecols='B,E:Y', thousands=',',index_col = '행정기관')\n",
    "df.head(1)\n",
    "\n",
    "df_w = pd.read_excel('../z20_data/20230104_연령별인구현황.xlsx',skiprows=3, usecols='B,AB:AV', thousands=',',index_col = '행정기관')\n",
    "df_w.head(1)"
   ]
  },
  {
   "cell_type": "code",
   "execution_count": null,
   "metadata": {},
   "outputs": [],
   "source": [
    "# 2월 데이터\n",
    "df = pd.read_excel('../z20_data/20230104_연령별인구현황.xlsx',skiprows=3, usecols='B,E:Y', thousands=',',index_col = '행정기관')\n",
    "df.head(1)\n",
    "\n",
    "df_w = pd.read_excel('../z20_data/20230104_연령별인구현황.xlsx',skiprows=3, usecols='B,AB:AV', thousands=',',index_col = '행정기관')\n",
    "df_w.head(1)"
   ]
  }
 ],
 "metadata": {
  "kernelspec": {
   "display_name": "Python 3",
   "language": "python",
   "name": "python3"
  },
  "language_info": {
   "codemirror_mode": {
    "name": "ipython",
    "version": 3
   },
   "file_extension": ".py",
   "mimetype": "text/x-python",
   "name": "python",
   "nbconvert_exporter": "python",
   "pygments_lexer": "ipython3",
   "version": "3.12.0"
  }
 },
 "nbformat": 4,
 "nbformat_minor": 2
}
