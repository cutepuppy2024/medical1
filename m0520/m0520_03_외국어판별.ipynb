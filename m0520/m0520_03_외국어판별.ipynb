{
 "cells": [
  {
   "cell_type": "code",
   "execution_count": 1,
   "metadata": {},
   "outputs": [],
   "source": [
    "from sklearn import svm, metrics\n",
    "from sklearn.neighbors import KNeighborsClassifier\n",
    "from sklearn.model_selection import train_test_split\n",
    "import pandas as pd\n",
    "import numpy as np\n",
    "import matplotlib.pyplot as plt\n",
    "import matplotlib\n",
    "import glob, os.path, re\n",
    "import random\n",
    "\n",
    "matplotlib.rcParams['axes.unicode_minus'] = False \n",
    "matplotlib.rcParams['font.family'] = 'Malgun Gothic'  # : windows 사용자용\n",
    "matplotlib.rcParams['font.size'] = '10' "
   ]
  },
  {
   "cell_type": "markdown",
   "metadata": {},
   "source": [
    "### 함수 호출하여 파일명 출력 (전체)"
   ]
  },
  {
   "cell_type": "code",
   "execution_count": 59,
   "metadata": {},
   "outputs": [],
   "source": [
    "# 각 파일 처리\n",
    "def load_files(path):\n",
    "    freqs = []\n",
    "    results = []\n",
    "    file_list = glob.glob(path)  # url모두 포함\n",
    "    for fname in file_list:   # 파일개수 : 20번 실행        # fname : '.lang/train\\\\en-1,.txt' / name : en-1,.txt\n",
    "        name = os.path.basename(fname)  # 파일명 : 파일1번, 파일2번\n",
    "        lang = name.split(\"-\")[0]    \n",
    "        \n",
    "        with open (fname,'r',encoding='utf-8') as f:  \n",
    "            text = f.read()             # 파일내용\n",
    "            \n",
    "        text = text.lower()\n",
    "        \n",
    "        cnt = [0 for n in range(0,26)]\n",
    "        code_a = ord('a')\n",
    "        code_z = ord('z')\n",
    "        \n",
    "        # 메모장 안의 모든 문자를 가져와서, a~z 사이의 문자만 저장\n",
    "        for ch in text:\n",
    "            n = ord(ch)\n",
    "            if code_a <= n <= code_z:\n",
    "                cnt[n-code_a] += 1     # b 98-97 = 1의 자리에 1 증가\n",
    "                \n",
    "        # 정규화 작업 각 피쳐마다 비율을 일정하게 맞춤(0~1 사이의 값으로)\n",
    "        total =  sum(cnt)\n",
    "        \n",
    "        # 데이터의 값이 0-1 사이의 값으로 변환\n",
    "        freq = list(map(lambda n : n/total, cnt))\n",
    "        \n",
    "        # data 값을 저장\n",
    "        freqs.append(freq)\n",
    "        \n",
    "        # 결과값 리스트 저장       \n",
    "        results.append(lang)\n",
    "        \n",
    "    return {\"freqs\":freqs, \"results\" : results}"
   ]
  },
  {
   "cell_type": "code",
   "execution_count": 61,
   "metadata": {},
   "outputs": [
    {
     "data": {
      "text/plain": [
       "'en'"
      ]
     },
     "execution_count": 61,
     "metadata": {},
     "output_type": "execute_result"
    }
   ],
   "source": [
    "path = './lang/train/*.txt'\n",
    "path2 = './lang/test/*'\n",
    "\n",
    "# 함수 : train_input, train_target, test_input, test_target\n",
    "data = load_files(path)  # 함수호출 - 20개의 train 데이터를 가져옴\n",
    "test = load_files(path2) # 8개의 test 데이터를 가져옴\n",
    "\n",
    "data['freqs'][0]\n",
    "test['freqs'][0]\n",
    "data['results'][0]"
   ]
  },
  {
   "cell_type": "markdown",
   "metadata": {},
   "source": [
    "### 파일 확인(1개)"
   ]
  },
  {
   "cell_type": "code",
   "execution_count": 8,
   "metadata": {},
   "outputs": [
    {
     "data": {
      "text/plain": [
       "['./lang/train\\\\en-1.txt',\n",
       " './lang/train\\\\en-2.txt',\n",
       " './lang/train\\\\en-3.txt',\n",
       " './lang/train\\\\en-4.txt',\n",
       " './lang/train\\\\en-5.txt',\n",
       " './lang/train\\\\fr-10.txt',\n",
       " './lang/train\\\\fr-6.txt',\n",
       " './lang/train\\\\fr-7.txt',\n",
       " './lang/train\\\\fr-8.txt',\n",
       " './lang/train\\\\fr-9.txt',\n",
       " './lang/train\\\\id-11.txt',\n",
       " './lang/train\\\\id-12.txt',\n",
       " './lang/train\\\\id-13.txt',\n",
       " './lang/train\\\\id-14.txt',\n",
       " './lang/train\\\\id-15.txt',\n",
       " './lang/train\\\\tl-16.txt',\n",
       " './lang/train\\\\tl-17.txt',\n",
       " './lang/train\\\\tl-18.txt',\n",
       " './lang/train\\\\tl-19.txt',\n",
       " './lang/train\\\\tl-20.txt']"
      ]
     },
     "execution_count": 8,
     "metadata": {},
     "output_type": "execute_result"
    }
   ],
   "source": [
    "link = './lang/train/*.txt'\n",
    "link2 = './lang/test/*'\n",
    "\n",
    "# 폴더안의 모든 데이터를 읽어옴\n",
    "file_list =  glob.glob(link)\n",
    "file_list"
   ]
  },
  {
   "cell_type": "code",
   "execution_count": 35,
   "metadata": {},
   "outputs": [],
   "source": [
    "# 폴더의 모든 파일의 이름을 출력\n",
    "name = os.path.basename(file_list[0])\n",
    "\n",
    "data = []\n",
    "results = []\n",
    "\n",
    "for fname in file_list:\n",
    "    name = os.path.basename(fname)\n",
    "    # print(name)\n",
    "    \n",
    "    # 데이터 가져오기\n",
    "    \n",
    "    # str split을 사용해서 앞에 있는 2글자만 분리해서 출력\n",
    "    # print(type(name))\n",
    "    lang = name.split('-')\n",
    "    # print(lang)\n",
    "    results.append(lang[0])\n"
   ]
  },
  {
   "cell_type": "markdown",
   "metadata": {},
   "source": [
    "### 데이터 전처리 - train세트, test세트 생성\n",
    "머신러닝순서\n",
    "1. 데이터 전처리\n",
    "2. 데이터 학습시키기\n",
    "3. 데이터 에측하기\n",
    "4. 정답률 출력하기"
   ]
  },
  {
   "cell_type": "code",
   "execution_count": 62,
   "metadata": {},
   "outputs": [
    {
     "name": "stdout",
     "output_type": "stream",
     "text": [
      "결과 값 : ['en' 'en' 'fr' 'fr' 'id' 'id' 'tl' 'tl']\n"
     ]
    }
   ],
   "source": [
    "# 데이터 학습시키기\n",
    "clf = svm.SVC()\n",
    "clf.fit(data['freqs'], data['results'])\n",
    "\n",
    "# 데이터 예측하기\n",
    "predict = clf.predict(test['freqs'])\n",
    "print(\"결과 값 :\", predict)"
   ]
  },
  {
   "cell_type": "code",
   "execution_count": 63,
   "metadata": {},
   "outputs": [
    {
     "name": "stdout",
     "output_type": "stream",
     "text": [
      "정답률 : 1.0\n"
     ]
    }
   ],
   "source": [
    "score = clf.score(test['freqs'], test['results'])\n",
    "print(\"정답률 :\", score)"
   ]
  },
  {
   "cell_type": "code",
   "execution_count": 65,
   "metadata": {},
   "outputs": [
    {
     "name": "stdout",
     "output_type": "stream",
     "text": [
      "              precision    recall  f1-score   support\n",
      "\n",
      "          en       1.00      1.00      1.00         2\n",
      "          fr       1.00      1.00      1.00         2\n",
      "          id       1.00      1.00      1.00         2\n",
      "          tl       1.00      1.00      1.00         2\n",
      "\n",
      "    accuracy                           1.00         8\n",
      "   macro avg       1.00      1.00      1.00         8\n",
      "weighted avg       1.00      1.00      1.00         8\n",
      "\n"
     ]
    }
   ],
   "source": [
    "cl_report = metrics.classification_report(test['results'], predict)\n",
    "print(cl_report)"
   ]
  },
  {
   "cell_type": "code",
   "execution_count": 71,
   "metadata": {},
   "outputs": [
    {
     "data": {
      "text/plain": [
       "[0.07595212187159957,\n",
       " 0.012840043525571273,\n",
       " 0.04570184983677911,\n",
       " 0.04613710554951034,\n",
       " 0.10533188248095757,\n",
       " 0.015669205658324265,\n",
       " 0.019151251360174103,\n",
       " 0.043743199129488576,\n",
       " 0.07399347116430903,\n",
       " 0.0017410228509249185,\n",
       " 0.00544069640914037,\n",
       " 0.05375408052230685,\n",
       " 0.026332970620239392,\n",
       " 0.07747551686615888,\n",
       " 0.08966267682263329,\n",
       " 0.016539717083786723,\n",
       " 0.0,\n",
       " 0.07769314472252448,\n",
       " 0.061371055495103376,\n",
       " 0.08052230685527748,\n",
       " 0.02589771490750816,\n",
       " 0.009793253536452665,\n",
       " 0.014145810663764961,\n",
       " 0.0006528835690968443,\n",
       " 0.02002176278563656,\n",
       " 0.0004352557127312296]"
      ]
     },
     "execution_count": 71,
     "metadata": {},
     "output_type": "execute_result"
    }
   ],
   "source": [
    "data['freqs'][0]"
   ]
  },
  {
   "cell_type": "code",
   "execution_count": 72,
   "metadata": {},
   "outputs": [
    {
     "data": {
      "text/plain": [
       "[0.07595212187159957, 0.012840043525571273, 0.04570184983677911]"
      ]
     },
     "execution_count": 72,
     "metadata": {},
     "output_type": "execute_result"
    }
   ],
   "source": [
    "data['freqs'][0][:3]"
   ]
  },
  {
   "cell_type": "code",
   "execution_count": 73,
   "metadata": {},
   "outputs": [
    {
     "data": {
      "text/plain": [
       "array([<Axes: title={'center': 'en'}>, <Axes: title={'center': 'fr'}>,\n",
       "       <Axes: title={'center': 'id'}>, <Axes: title={'center': 'tl'}>],\n",
       "      dtype=object)"
      ]
     },
     "execution_count": 73,
     "metadata": {},
     "output_type": "execute_result"
    },
    {
     "data": {
      "image/png": "[encoded data removed]",
      "text/plain": [
       "<Figure size 640x480 with 4 Axes>"
      ]
     },
     "metadata": {},
     "output_type": "display_data"
    }
   ],
   "source": [
    "# 그래프 그리기\n",
    "lang_dic = {}\n",
    "for i, result in enumerate(data['results']):\n",
    "    fq = data['freqs'][i]    # data 부분을 가지고 옴\n",
    "    if not (result in lang_dic):\n",
    "        lang_dic[result] = fq\n",
    "    for idx, v in enumerate(fq):\n",
    "        lang_dic[result][idx] =  (lang_dic[result][idx]+v) / 2\n",
    "        \n",
    "# x축의 눈금을 생성\n",
    "asc_list = [chr(n) for n in range(97,122+1)]  #26개 x축\n",
    "df = pd.DataFrame(lang_dic,index=asc_list)\n",
    "df.plot(kind='bar', subplots=True, ylim=(0,0.15))  "
   ]
  },
  {
   "cell_type": "code",
   "execution_count": 77,
   "metadata": {},
   "outputs": [
    {
     "data": {
      "text/plain": [
       "Index(['en', 'fr', 'id', 'tl'], dtype='object')"
      ]
     },
     "execution_count": 77,
     "metadata": {},
     "output_type": "execute_result"
    }
   ],
   "source": [
    "df.columns"
   ]
  },
  {
   "cell_type": "code",
   "execution_count": 81,
   "metadata": {},
   "outputs": [
    {
     "data": {
      "text/plain": [
       "(0.0, 0.15)"
      ]
     },
     "execution_count": 81,
     "metadata": {},
     "output_type": "execute_result"
    },
    {
     "data": {
      "image/png": "[encoded data removed]",
      "text/plain": [
       "<Figure size 640x480 with 4 Axes>"
      ]
     },
     "metadata": {},
     "output_type": "display_data"
    }
   ],
   "source": [
    "fig, axs = plt.subplots(4)\n",
    "axs[0].bar(df.index, df['en'], label=df.columns[0])\n",
    "axs[1].bar(df.index, df['fr'], label=df.columns[1])\n",
    "axs[2].bar(df.index, df['id'], label=df.columns[2])\n",
    "axs[3].bar(df.index, df['tl'], label=df.columns[3])\n",
    "\n",
    "axs[0].legend()\n",
    "axs[1].legend()\n",
    "axs[2].legend()\n",
    "axs[3].legend()\n",
    "\n",
    "axs[0].set_ylim(0,0.15)\n",
    "axs[1].set_ylim(0,0.15)\n",
    "axs[2].set_ylim(0,0.15)\n",
    "axs[3].set_ylim(0,0.15)"
   ]
  },
  {
   "cell_type": "code",
   "execution_count": 49,
   "metadata": {},
   "outputs": [
    {
     "name": "stdout",
     "output_type": "stream",
     "text": [
      "en\n",
      "[0.07595212187159957, 0.012840043525571273, 0.04570184983677911, 0.04613710554951034, 0.10533188248095757, 0.015669205658324265, 0.019151251360174103, 0.043743199129488576, 0.07399347116430903, 0.0017410228509249185, 0.00544069640914037, 0.05375408052230685, 0.026332970620239392, 0.07747551686615888, 0.08966267682263329, 0.016539717083786723, 0.0, 0.07769314472252448, 0.061371055495103376, 0.08052230685527748, 0.02589771490750816, 0.009793253536452665, 0.014145810663764961, 0.0006528835690968443, 0.02002176278563656, 0.0004352557127312296]\n"
     ]
    }
   ],
   "source": [
    "# 1개 파일이름\n",
    "name = os.path.basename(file_list[0])\n",
    "# name\n",
    "lang = name.split('-')\n",
    "print(lang[0])\n",
    "\n",
    "# 1개 파일 내용 읽어오기\n",
    "cnt = [0 for n in range(0,26)]\n",
    "with open('./lang/train/'+name, 'r', encoding='utf-8') as f:\n",
    "    # print(f.read())\n",
    "    text = f.read()\n",
    "    # 소문자 치환 \n",
    "    text = text.lower()\n",
    "    # 문자 개수 세기\n",
    "    # 영문자가 26개 있음 -> 배열 26개 짜리를 1개 생성\n",
    "\n",
    "    # 1개씩 문자를 읽어와서 26개의 배열에서 1씩 추가\n",
    "    code_a = ord('a')\n",
    "    code_z = ord('z')\n",
    "    for ch in text:\n",
    "        n = ord(ch)\n",
    "        if code_a <= n <= code_z:   # a~z 사이의 문자이면\n",
    "            # 리스트에 저장\n",
    "            cnt[n-code_a] += 1     # 해당되는 위치에 1을 증가 \n",
    "    # 정규화\n",
    "    total = sum(cnt)\n",
    "    \n",
    "    # freq의 배열의 값을 total로 나눠서 다시 리스트를 만듬\n",
    "    # freq = []\n",
    "    # for i in cnt:\n",
    "    #     freq.append({i/total})\n",
    "    \n",
    "    def change(n):\n",
    "        return n/total\n",
    "    # freq = list(map(change(n),cnt))  \n",
    "         \n",
    "    freq = list(map(lambda n : n/total,cnt))      \n",
    "          \n",
    "# print(cnt)\n",
    "print(freq)"
   ]
  },
  {
   "cell_type": "markdown",
   "metadata": {},
   "source": [
    "### 아스키코드"
   ]
  },
  {
   "cell_type": "code",
   "execution_count": 42,
   "metadata": {},
   "outputs": [
    {
     "data": {
      "text/plain": [
       "'['"
      ]
     },
     "execution_count": 42,
     "metadata": {},
     "output_type": "execute_result"
    }
   ],
   "source": [
    "# 아스키코드 : 문자를 숫자로 표시, /   A : 65  /  a : 97  /  0 : 48\n",
    "chr(65)\n",
    "chr(97-32)\n",
    "chr(65+32)\n",
    "chr(50-48)  # 숫자가 2가 아닌 문자 2가 출력됨\n",
    "chr(91) # 대괄호\n",
    "\n",
    "# 아스키코드 찾기\n",
    "ord('a')\n",
    "ord('s')"
   ]
  },
  {
   "cell_type": "markdown",
   "metadata": {},
   "source": [
    "#### 배열 만드는 3가지 방법"
   ]
  },
  {
   "cell_type": "code",
   "execution_count": 29,
   "metadata": {},
   "outputs": [
    {
     "data": {
      "text/plain": [
       "[0, 0, 0, 0, 0, 0, 0, 0, 0, 0, 0, 0, 0, 0, 0, 0, 0, 0, 0, 0, 0, 0, 0, 0, 0, 0]"
      ]
     },
     "execution_count": 29,
     "metadata": {},
     "output_type": "execute_result"
    }
   ],
   "source": [
    "[0 for n in range(0,26)]"
   ]
  },
  {
   "cell_type": "code",
   "execution_count": 30,
   "metadata": {},
   "outputs": [
    {
     "data": {
      "text/plain": [
       "array([0., 0., 0., 0., 0., 0., 0., 0., 0., 0., 0., 0., 0., 0., 0., 0., 0.,\n",
       "       0., 0., 0., 0., 0., 0., 0., 0., 0.])"
      ]
     },
     "execution_count": 30,
     "metadata": {},
     "output_type": "execute_result"
    }
   ],
   "source": [
    "np.zeros(26)"
   ]
  },
  {
   "cell_type": "code",
   "execution_count": 31,
   "metadata": {},
   "outputs": [
    {
     "data": {
      "text/plain": [
       "array([1., 1., 1., 1., 1., 1., 1., 1., 1., 1., 1., 1., 1., 1., 1., 1., 1.,\n",
       "       1., 1., 1., 1., 1., 1., 1., 1., 1.])"
      ]
     },
     "execution_count": 31,
     "metadata": {},
     "output_type": "execute_result"
    }
   ],
   "source": [
    "np.ones(26)"
   ]
  }
 ],
 "metadata": {
  "kernelspec": {
   "display_name": "Python 3",
   "language": "python",
   "name": "python3"
  },
  "language_info": {
   "codemirror_mode": {
    "name": "ipython",
    "version": 3
   },
   "file_extension": ".py",
   "mimetype": "text/x-python",
   "name": "python",
   "nbconvert_exporter": "python",
   "pygments_lexer": "ipython3",
   "version": "3.12.0"
  }
 },
 "nbformat": 4,
 "nbformat_minor": 2
}
