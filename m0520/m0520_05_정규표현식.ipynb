{
 "cells": [
  {
   "cell_type": "code",
   "execution_count": 1,
   "metadata": {},
   "outputs": [],
   "source": [
    "from sklearn import svm, metrics\n",
    "from sklearn.neighbors import KNeighborsClassifier\n",
    "from sklearn.model_selection import train_test_split\n",
    "import pandas as pd\n",
    "import numpy as np\n",
    "import matplotlib.pyplot as plt\n",
    "import matplotlib\n",
    "import glob, os.path, re\n",
    "import random\n",
    "\n",
    "matplotlib.rcParams['axes.unicode_minus'] = False \n",
    "matplotlib.rcParams['font.family'] = 'Malgun Gothic'  # : windows 사용자용\n",
    "matplotlib.rcParams['font.size'] = '10' "
   ]
  },
  {
   "cell_type": "markdown",
   "metadata": {},
   "source": [
    "### 정규표현식"
   ]
  },
  {
   "cell_type": "code",
   "execution_count": 12,
   "metadata": {},
   "outputs": [
    {
     "name": "stdout",
     "output_type": "stream",
     "text": [
      "매칭 되지 않았습니다.\n"
     ]
    }
   ],
   "source": [
    "import re\n",
    "# 정규표현식\n",
    "p = re.compile(\"ca.e\") # 정규표현식을 지정\n",
    "word = 'cafe'\n",
    "word2 = 'care'\n",
    "word3 = 'cark'\n",
    "\n",
    "if p.match(word3):\n",
    "    print(\"매칭이 되었습니다\")\n",
    "else:\n",
    "    print(\"매칭 되지 않았습니다.\")"
   ]
  },
  {
   "cell_type": "code",
   "execution_count": 20,
   "metadata": {},
   "outputs": [
    {
     "name": "stdout",
     "output_type": "stream",
     "text": [
      "매칭 되었습니다 desk\n"
     ]
    }
   ],
   "source": [
    "# ^de  :  첫시작이 de로 시작되어야 함 \n",
    "\n",
    "word = 'desk'\n",
    "if re.match('^de', word): # ^ : 시작이 de로 이루어진 문자여야 한다\n",
    "# if re.match(r'^(de)', word)\n",
    "    print(\"매칭 되었습니다\", word)\n",
    "else:\n",
    "    print(\"매칭되지 않았습니다\",word)"
   ]
  },
  {
   "cell_type": "code",
   "execution_count": 23,
   "metadata": {},
   "outputs": [
    {
     "name": "stdout",
     "output_type": "stream",
     "text": [
      "매칭되지 않았습니다\n"
     ]
    }
   ],
   "source": [
    "# se$  : \n",
    "# match : 정확히 일치해야 True\n",
    "# search : 포함이 되어 있으면 True\n",
    "\n",
    "word = 'casee'\n",
    "p = re.compile(\"(se$)\")\n",
    "if p.search(word): # ^ : 시작이 de로 이루어진 문자여야 한다\n",
    "    print(\"매칭 되었습니다\", word)\n",
    "else:\n",
    "    print(\"매칭되지 않았습니다\",word)\n"
   ]
  },
  {
   "cell_type": "code",
   "execution_count": 27,
   "metadata": {},
   "outputs": [
    {
     "name": "stdout",
     "output_type": "stream",
     "text": [
      "매칭됨 abcdef\n"
     ]
    }
   ],
   "source": [
    "# {3}  :  3자리가 들어와야 True\n",
    "# {2,3} : 2~3자리가 들어와 True\n",
    "# ^ : 시작\n",
    "# [] : [ ] 안에 있는 글자만 True\n",
    "# a-z0-9 : a-z 전체, 0-9 전체\n",
    "# A-Z : ABCDEF.... XYZ\n",
    "# ㄱ-ㅎ 가-힣 : 국문만 가능\n",
    "\n",
    "# 첫즐자가 'a' 이면서, 다음은 영문 소문자가 5개만 들어올 수 있음\n",
    "word = 'abcdef'\n",
    "if re.match(r'^a{1}[a-z]{5}$', word):\n",
    "    print(\"매칭됨\", word)\n",
    "else:\n",
    "    print(\"매칭안됨\", word)"
   ]
  },
  {
   "cell_type": "code",
   "execution_count": 29,
   "metadata": {},
   "outputs": [
    {
     "name": "stdout",
     "output_type": "stream",
     "text": [
      "매칭되지 않음 0101234-4567\n"
     ]
    }
   ],
   "source": [
    "word = \"0101234-4567\"\n",
    "if re.search('[0-9]{2,3}-[0-9]{4}-[0-9]{4}',word): # match() 가능\n",
    "    print(\"매칭되었습니다\", word)\n",
    "else:\n",
    "    print(\"매칭되지 않음\", word)"
   ]
  },
  {
   "cell_type": "code",
   "execution_count": null,
   "metadata": {},
   "outputs": [],
   "source": [
    "# 데이터를 입력받아 길이가 6자리, 첫글자가 a가 입력이 되면\n",
    "# '제대로 입력되었습니다'\n",
    "# 그렇지 않으면 '다시 입력하세요' 출력\n",
    "# 제대로 입력되어야지만 프로그램을 종료 시키시오"
   ]
  },
  {
   "cell_type": "code",
   "execution_count": 3,
   "metadata": {},
   "outputs": [
    {
     "name": "stdout",
     "output_type": "stream",
     "text": [
      "제대로 입력되었습니다\n",
      "프로그램을 종료합니다.\n"
     ]
    }
   ],
   "source": [
    "while True:    \n",
    "    data = input(\"6글자의 문자를 입력하세요\")\n",
    "    if len(data) == 6 and data[0] =='a':\n",
    "        print('제대로 입력되었습니다')\n",
    "        print('프로그램을 종료합니다.')\n",
    "        break\n",
    "    else:\n",
    "        print('다시 입력하세요')"
   ]
  },
  {
   "cell_type": "code",
   "execution_count": 5,
   "metadata": {},
   "outputs": [
    {
     "data": {
      "text/plain": [
       "True"
      ]
     },
     "execution_count": 5,
     "metadata": {},
     "output_type": "execute_result"
    }
   ],
   "source": [
    "data = '123456'\n",
    "data = data.isdigit()\n",
    "data"
   ]
  },
  {
   "cell_type": "code",
   "execution_count": null,
   "metadata": {},
   "outputs": [],
   "source": [
    "# 숫자 6자리, 첫글자가 1이면서, 숫자만 입력가능\n",
    "while True:    \n",
    "    data = input(\"6글자의 글자를 입력하세요\")\n",
    "    \n",
    "    if data.isdigit() and data[0] =='1' and len(data) == 6 :\n",
    "        print('제대로 입력되었습니다',data)\n",
    "        print('프로그램을 종료합니다.')\n",
    "        break\n",
    "    else:\n",
    "        print('다시 입력하세요',data)"
   ]
  }
 ],
 "metadata": {
  "kernelspec": {
   "display_name": "Python 3",
   "language": "python",
   "name": "python3"
  },
  "language_info": {
   "codemirror_mode": {
    "name": "ipython",
    "version": 3
   },
   "file_extension": ".py",
   "mimetype": "text/x-python",
   "name": "python",
   "nbconvert_exporter": "python",
   "pygments_lexer": "ipython3",
   "version": "3.12.0"
  }
 },
 "nbformat": 4,
 "nbformat_minor": 2
}
