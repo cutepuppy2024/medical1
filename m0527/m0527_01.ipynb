{
 "cells": [
  {
   "cell_type": "code",
   "execution_count": 1,
   "metadata": {},
   "outputs": [],
   "source": [
    "from sklearn.linear_model import LinearRegression\n",
    "from sklearn.preprocessing import PolynomialFeatures\n",
    "from sklearn.model_selection import train_test_split\n",
    "import pandas as pd\n",
    "import numpy as np\n",
    "import random\n",
    "import matplotlib.pyplot as plt\n",
    "import matplotlib\n",
    "\n",
    "matplotlib.rcParams['axes.unicode_minus'] = False\n",
    "matplotlib.rcParams['font.family'] = 'Malgun Gothic'\n",
    "matplotlib.rcParams['font.size'] = '10'"
   ]
  },
  {
   "cell_type": "markdown",
   "metadata": {},
   "source": [
    "### 요구사항 분석\n",
    "데이터 feature 설명\n",
    "- pclass : Passenger Class, 승객 등급\n",
    "- survived : 생존여부 <- target 값이 됨\n",
    "- name : 승객이름\n",
    "- sex : 승객 성별\n",
    "- age : 승객 나이\n",
    "- sebsp : 탑승한 형제/배우자 수\n",
    "- parch : 탑승한 부모/자녀 수\n",
    "- ticket : 티켓번호\n",
    "- fare : 승객 지불 요금\n",
    "- cabin : 선실이름\n",
    "- embarked : 승선항 (C = 쉘부르그, Q = 퀸즈타운, S = 사우스 햄튼) \n",
    "- body : 사망자 확인 번호 - 분석과정에서 제외해야함. 머신러닝에 100% 영향을 미침\n",
    "- home.dest : 고향/목적지"
   ]
  },
  {
   "cell_type": "code",
   "execution_count": null,
   "metadata": {},
   "outputs": [],
   "source": [
    "# 타이타닉의 생존자 분류모델 구현\n",
    "# target : survived\n",
    "# data : 그 외\n",
    "\n",
    "# 데이터확인\n",
    "# 데이터 전처리\n",
    "# 불필요한 피처를 제거 - 제거 피처는 체크해 둘것\n",
    "# name, ticket, body, cabin, home.dest - name, cabin 사용해볼것\n",
    "# 각각의 모델을 적용\n",
    "\n",
    "# 정답률 체크\n",
    "\n",
    "# 분류 : 로지스틱 회귀, 결정트리, 랜덤 포레스트"
   ]
  },
  {
   "cell_type": "code",
   "execution_count": null,
   "metadata": {},
   "outputs": [],
   "source": [
    "df_train = pd.read_csv('titanic_train.csv')\n",
    "df_train.head(2)\n",
    "df_test = pd.read_csv('titanic_test.csv')\n",
    "df_test.head(2)"
   ]
  },
  {
   "cell_type": "code",
   "execution_count": null,
   "metadata": {},
   "outputs": [],
   "source": [
    "df_train.info()"
   ]
  },
  {
   "cell_type": "code",
   "execution_count": null,
   "metadata": {},
   "outputs": [],
   "source": [
    "df_train['name'].head(10)"
   ]
  },
  {
   "cell_type": "code",
   "execution_count": null,
   "metadata": {},
   "outputs": [],
   "source": [
    "df_sp =  df_train['name'].str.split(',').str[1]\n",
    "df_sp.head(2)"
   ]
  },
  {
   "cell_type": "code",
   "execution_count": null,
   "metadata": {},
   "outputs": [],
   "source": [
    "test = pd.concat([df_train2,df_sp],axis=1)"
   ]
  }
 ],
 "metadata": {
  "kernelspec": {
   "display_name": "Python 3",
   "language": "python",
   "name": "python3"
  },
  "language_info": {
   "codemirror_mode": {
    "name": "ipython",
    "version": 3
   },
   "file_extension": ".py",
   "mimetype": "text/x-python",
   "name": "python",
   "nbconvert_exporter": "python",
   "pygments_lexer": "ipython3",
   "version": "3.12.2"
  }
 },
 "nbformat": 4,
 "nbformat_minor": 2
}
