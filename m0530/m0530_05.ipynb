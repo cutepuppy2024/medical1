{
 "cells": [
  {
   "cell_type": "code",
   "execution_count": 15,
   "metadata": {},
   "outputs": [],
   "source": [
    "import requests\n",
    "import time\n",
    "import random\n",
    "import pandas as pd\n",
    "from bs4 import BeautifulSoup\n",
    "from selenium import webdriver\n",
    "from selenium.webdriver.common.by import By\n",
    "from selenium.webdriver.common.keys import Keys\n",
    "from selenium.webdriver.support.ui import WebDriverWait\n",
    "from selenium.webdriver.support import expected_conditions as EC\n",
    "\n",
    "headers = {'User-Agent':'Mozilla/5.0 (Windows NT 10.0; Win64; x64) AppleWebKit/537.36 (KHTML, like Gecko) Chrome/125.0.0.0 Safari/537.36'}\n",
    "url = 'https://namu.wiki/RecentChanges'"
   ]
  },
  {
   "cell_type": "code",
   "execution_count": 16,
   "metadata": {},
   "outputs": [],
   "source": [
    "browser = webdriver.Chrome()\n",
    "browser.maximize_window()\n",
    "browser.get(url)"
   ]
  },
  {
   "cell_type": "code",
   "execution_count": 17,
   "metadata": {},
   "outputs": [],
   "source": [
    "soup =  BeautifulSoup(browser.page_source,'lxml')\n",
    "with open('test_wiki.html','w',encoding='utf-8') as f:\n",
    "    f.write(soup.prettify())"
   ]
  },
  {
   "cell_type": "code",
   "execution_count": null,
   "metadata": {},
   "outputs": [],
   "source": [
    "section = soup.find('div',{'class':'_05sl5euW'})\n",
    "lists = section.find_all('div',{'class':'RCuwAzkH'}) \n",
    "lists[1].a['href']"
   ]
  },
  {
   "cell_type": "code",
   "execution_count": null,
   "metadata": {},
   "outputs": [],
   "source": [
    "urls = []\n",
    "for i in range(1,len(lists)):\n",
    "    urls.append(\"https://namu.wiki\"+lists[i].a['href'])"
   ]
  },
  {
   "cell_type": "code",
   "execution_count": null,
   "metadata": {},
   "outputs": [],
   "source": [
    "title = []\n",
    "category = []\n",
    "content = []\n",
    "\n",
    "for url in urls:\n",
    "    res = requests.get(url)\n",
    "    res.raise_for_status()\n",
    "    # 데이터 불러오기\n",
    "    soup = BeautifulSoup(res.text,'lxml')\n",
    "    \n",
    "    \n",
    "    # title\n",
    "    try: \n",
    "        title = soup.find(\"a\",{\"class\":\"Wu5cnaNH\"}).text\n",
    "\n",
    "    except:\n",
    "        title.append(\"없음\")\n",
    "        \n",
    "    # category\n",
    "    try: \n",
    "        category = soup.find(\"li\",{\"class\":\"_1bYIAv37\"}).text\n",
    "\n",
    "    except:\n",
    "        title.append(\"없음\")\n",
    "        \n",
    "    # content\n",
    "    try: \n",
    "        cont = soup.find('div',{'class':'_0NDK1MJM'})\n",
    "        cont_1 = cont.find('span',{'id':'개요'}).parent.next_sibling.text\n",
    "\n",
    "    except:\n",
    "        title.append(\"없음\")\n",
    "        \n",
    "    title.append(title)\n",
    "    category.append(category)\n",
    "    content.append(cont_1)"
   ]
  },
  {
   "cell_type": "code",
   "execution_count": null,
   "metadata": {},
   "outputs": [],
   "source": [
    "len(title)"
   ]
  },
  {
   "cell_type": "code",
   "execution_count": null,
   "metadata": {},
   "outputs": [],
   "source": [
    "data = {\"title\":title, 'category':category,'content':content}"
   ]
  },
  {
   "cell_type": "code",
   "execution_count": 11,
   "metadata": {},
   "outputs": [],
   "source": [
    "df = pd.Dataframe(data)"
   ]
  },
  {
   "cell_type": "code",
   "execution_count": null,
   "metadata": {},
   "outputs": [],
   "source": [
    "df.to_csv('namu_0530.csv',encoding='utf-8-sig')"
   ]
  }
 ],
 "metadata": {
  "kernelspec": {
   "display_name": "Python 3",
   "language": "python",
   "name": "python3"
  },
  "language_info": {
   "codemirror_mode": {
    "name": "ipython",
    "version": 3
   },
   "file_extension": ".py",
   "mimetype": "text/x-python",
   "name": "python",
   "nbconvert_exporter": "python",
   "pygments_lexer": "ipython3",
   "version": "3.12.3"
  }
 },
 "nbformat": 4,
 "nbformat_minor": 2
}
